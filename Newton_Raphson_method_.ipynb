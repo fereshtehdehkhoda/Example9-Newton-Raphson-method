{
  "cells": [
    {
      "cell_type": "markdown",
      "metadata": {
        "id": "view-in-github",
        "colab_type": "text"
      },
      "source": [
        "<a href=\"https://colab.research.google.com/github/fereshtehdehkhoda/Example9-Newton-Raphson-method/blob/main/Newton_Raphson_method_.ipynb\" target=\"_parent\"><img src=\"https://colab.research.google.com/assets/colab-badge.svg\" alt=\"Open In Colab\"/></a>"
      ]
    },
    {
      "cell_type": "markdown",
      "id": "7e85eee4-9603-4515-b90b-372b72d6cb47",
      "metadata": {
        "id": "7e85eee4-9603-4515-b90b-372b72d6cb47"
      },
      "source": [
        "# Newton-Raphson method"
      ]
    },
    {
      "cell_type": "code",
      "execution_count": null,
      "id": "1d0f426c-ff4e-44e7-97ff-241fb7553183",
      "metadata": {
        "id": "1d0f426c-ff4e-44e7-97ff-241fb7553183"
      },
      "outputs": [],
      "source": [
        "#ریشه معادله زیر را در بازه [2 , 1] با استفاده از روش نیوتن-رافسون محاسبه کنید.\n",
        "# #x**3-3*x+1"
      ]
    },
    {
      "cell_type": "code",
      "execution_count": null,
      "id": "86ee9eb0-190f-47be-bf4d-22a12c8109b9",
      "metadata": {
        "id": "86ee9eb0-190f-47be-bf4d-22a12c8109b9",
        "outputId": "850c1e84-ea5a-4d74-cc61-b45071fe718c"
      },
      "outputs": [
        {
          "data": {
            "text/plain": [
              "[1.1,\n",
              " 2.638095238095236,\n",
              " 1.9979088997504912,\n",
              " 1.665738100120937,\n",
              " 1.548406077463979,\n",
              " 1.5323828383309899,\n",
              " 1.5320889844442256,\n",
              " 1.5320888862379671,\n",
              " 1.532088886237956,\n",
              " 1.532088886237956,\n",
              " 1.532088886237956]"
            ]
          },
          "execution_count": 6,
          "metadata": {},
          "output_type": "execute_result"
        }
      ],
      "source": [
        "#Step1\n",
        "def f(x):\n",
        "    return x**3-3*x+1\n",
        "\n",
        "def g(x):\n",
        "    return 3*x**2-3\n",
        "\n",
        "\n",
        "#Step2\n",
        "x0=1.1\n",
        "all_x=[x0]\n",
        "for _ in range(10):\n",
        "  x1=x0-f(x0)/g(x0)\n",
        "  all_x.append(x1)\n",
        "  x0=x1\n",
        "\n",
        "\n",
        "#Step3\n",
        "all_x"
      ]
    },
    {
      "cell_type": "code",
      "execution_count": null,
      "id": "665f3773-b55e-42ae-842d-757401a5c623",
      "metadata": {
        "id": "665f3773-b55e-42ae-842d-757401a5c623"
      },
      "outputs": [],
      "source": []
    }
  ],
  "metadata": {
    "kernelspec": {
      "display_name": "Python 3 (ipykernel)",
      "language": "python",
      "name": "python3"
    },
    "language_info": {
      "codemirror_mode": {
        "name": "ipython",
        "version": 3
      },
      "file_extension": ".py",
      "mimetype": "text/x-python",
      "name": "python",
      "nbconvert_exporter": "python",
      "pygments_lexer": "ipython3",
      "version": "3.12.4"
    },
    "colab": {
      "provenance": [],
      "include_colab_link": true
    }
  },
  "nbformat": 4,
  "nbformat_minor": 5
}